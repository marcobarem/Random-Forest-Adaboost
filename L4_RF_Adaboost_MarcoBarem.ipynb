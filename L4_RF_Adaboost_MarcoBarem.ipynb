{
  "cells": [
    {
      "cell_type": "code",
      "execution_count": 9,
      "metadata": {
        "id": "aBRer-sifAE1"
      },
      "outputs": [],
      "source": [
        "import numpy as np\n",
        "import matplotlib.pyplot as plt\n",
        "from sklearn.model_selection import train_test_split\n",
        "from sklearn.ensemble import AdaBoostClassifier, RandomForestClassifier\n",
        "from sklearn.datasets import load_breast_cancer\n",
        "from sklearn.metrics import accuracy_score, roc_curve, auc\n"
      ]
    },
    {
      "cell_type": "markdown",
      "metadata": {
        "id": "Q9EYMhGbfCfj"
      },
      "source": [
        "# Exemplo com base de dados de Cancer de mama\n",
        "\n",
        "Usaremos o conjunto de dados sobre câncer de mama do scikit-learn:"
      ]
    },
    {
      "cell_type": "markdown",
      "metadata": {
        "id": "1_Q4-QhygCCd"
      },
      "source": [
        "## Step 1: Carregar e separar base"
      ]
    },
    {
      "cell_type": "code",
      "execution_count": 10,
      "metadata": {
        "id": "x0EpWIDsfC-d"
      },
      "outputs": [],
      "source": [
        "# Carregar e separar base de dados original (20% treinamento)\n",
        "data = load_breast_cancer()\n",
        "X = data.data\n",
        "y = data.target\n",
        "\n",
        "X_train, X_test, y_train, y_test = train_test_split(X, y, test_size=0.2, random_state=42)\n"
      ]
    },
    {
      "cell_type": "markdown",
      "metadata": {
        "id": "bDtEGrIVfHaS"
      },
      "source": [
        "## Step 2: Train AdaBoost and Random Forest Classifiers\n",
        "\n",
        "Treine os dois modelos nos dados de treinamento:"
      ]
    },
    {
      "cell_type": "code",
      "execution_count": 11,
      "metadata": {
        "id": "LAmlW-kLfJ_k"
      },
      "outputs": [
        {
          "name": "stderr",
          "output_type": "stream",
          "text": [
            "/home/heart/.local/lib/python3.12/site-packages/sklearn/ensemble/_weight_boosting.py:527: FutureWarning: The SAMME.R algorithm (the default) is deprecated and will be removed in 1.6. Use the SAMME algorithm to circumvent this warning.\n",
            "  warnings.warn(\n"
          ]
        },
        {
          "data": {
            "text/html": [
              "<style>#sk-container-id-1 {\n",
              "  /* Definition of color scheme common for light and dark mode */\n",
              "  --sklearn-color-text: black;\n",
              "  --sklearn-color-line: gray;\n",
              "  /* Definition of color scheme for unfitted estimators */\n",
              "  --sklearn-color-unfitted-level-0: #fff5e6;\n",
              "  --sklearn-color-unfitted-level-1: #f6e4d2;\n",
              "  --sklearn-color-unfitted-level-2: #ffe0b3;\n",
              "  --sklearn-color-unfitted-level-3: chocolate;\n",
              "  /* Definition of color scheme for fitted estimators */\n",
              "  --sklearn-color-fitted-level-0: #f0f8ff;\n",
              "  --sklearn-color-fitted-level-1: #d4ebff;\n",
              "  --sklearn-color-fitted-level-2: #b3dbfd;\n",
              "  --sklearn-color-fitted-level-3: cornflowerblue;\n",
              "\n",
              "  /* Specific color for light theme */\n",
              "  --sklearn-color-text-on-default-background: var(--sg-text-color, var(--theme-code-foreground, var(--jp-content-font-color1, black)));\n",
              "  --sklearn-color-background: var(--sg-background-color, var(--theme-background, var(--jp-layout-color0, white)));\n",
              "  --sklearn-color-border-box: var(--sg-text-color, var(--theme-code-foreground, var(--jp-content-font-color1, black)));\n",
              "  --sklearn-color-icon: #696969;\n",
              "\n",
              "  @media (prefers-color-scheme: dark) {\n",
              "    /* Redefinition of color scheme for dark theme */\n",
              "    --sklearn-color-text-on-default-background: var(--sg-text-color, var(--theme-code-foreground, var(--jp-content-font-color1, white)));\n",
              "    --sklearn-color-background: var(--sg-background-color, var(--theme-background, var(--jp-layout-color0, #111)));\n",
              "    --sklearn-color-border-box: var(--sg-text-color, var(--theme-code-foreground, var(--jp-content-font-color1, white)));\n",
              "    --sklearn-color-icon: #878787;\n",
              "  }\n",
              "}\n",
              "\n",
              "#sk-container-id-1 {\n",
              "  color: var(--sklearn-color-text);\n",
              "}\n",
              "\n",
              "#sk-container-id-1 pre {\n",
              "  padding: 0;\n",
              "}\n",
              "\n",
              "#sk-container-id-1 input.sk-hidden--visually {\n",
              "  border: 0;\n",
              "  clip: rect(1px 1px 1px 1px);\n",
              "  clip: rect(1px, 1px, 1px, 1px);\n",
              "  height: 1px;\n",
              "  margin: -1px;\n",
              "  overflow: hidden;\n",
              "  padding: 0;\n",
              "  position: absolute;\n",
              "  width: 1px;\n",
              "}\n",
              "\n",
              "#sk-container-id-1 div.sk-dashed-wrapped {\n",
              "  border: 1px dashed var(--sklearn-color-line);\n",
              "  margin: 0 0.4em 0.5em 0.4em;\n",
              "  box-sizing: border-box;\n",
              "  padding-bottom: 0.4em;\n",
              "  background-color: var(--sklearn-color-background);\n",
              "}\n",
              "\n",
              "#sk-container-id-1 div.sk-container {\n",
              "  /* jupyter's `normalize.less` sets `[hidden] { display: none; }`\n",
              "     but bootstrap.min.css set `[hidden] { display: none !important; }`\n",
              "     so we also need the `!important` here to be able to override the\n",
              "     default hidden behavior on the sphinx rendered scikit-learn.org.\n",
              "     See: https://github.com/scikit-learn/scikit-learn/issues/21755 */\n",
              "  display: inline-block !important;\n",
              "  position: relative;\n",
              "}\n",
              "\n",
              "#sk-container-id-1 div.sk-text-repr-fallback {\n",
              "  display: none;\n",
              "}\n",
              "\n",
              "div.sk-parallel-item,\n",
              "div.sk-serial,\n",
              "div.sk-item {\n",
              "  /* draw centered vertical line to link estimators */\n",
              "  background-image: linear-gradient(var(--sklearn-color-text-on-default-background), var(--sklearn-color-text-on-default-background));\n",
              "  background-size: 2px 100%;\n",
              "  background-repeat: no-repeat;\n",
              "  background-position: center center;\n",
              "}\n",
              "\n",
              "/* Parallel-specific style estimator block */\n",
              "\n",
              "#sk-container-id-1 div.sk-parallel-item::after {\n",
              "  content: \"\";\n",
              "  width: 100%;\n",
              "  border-bottom: 2px solid var(--sklearn-color-text-on-default-background);\n",
              "  flex-grow: 1;\n",
              "}\n",
              "\n",
              "#sk-container-id-1 div.sk-parallel {\n",
              "  display: flex;\n",
              "  align-items: stretch;\n",
              "  justify-content: center;\n",
              "  background-color: var(--sklearn-color-background);\n",
              "  position: relative;\n",
              "}\n",
              "\n",
              "#sk-container-id-1 div.sk-parallel-item {\n",
              "  display: flex;\n",
              "  flex-direction: column;\n",
              "}\n",
              "\n",
              "#sk-container-id-1 div.sk-parallel-item:first-child::after {\n",
              "  align-self: flex-end;\n",
              "  width: 50%;\n",
              "}\n",
              "\n",
              "#sk-container-id-1 div.sk-parallel-item:last-child::after {\n",
              "  align-self: flex-start;\n",
              "  width: 50%;\n",
              "}\n",
              "\n",
              "#sk-container-id-1 div.sk-parallel-item:only-child::after {\n",
              "  width: 0;\n",
              "}\n",
              "\n",
              "/* Serial-specific style estimator block */\n",
              "\n",
              "#sk-container-id-1 div.sk-serial {\n",
              "  display: flex;\n",
              "  flex-direction: column;\n",
              "  align-items: center;\n",
              "  background-color: var(--sklearn-color-background);\n",
              "  padding-right: 1em;\n",
              "  padding-left: 1em;\n",
              "}\n",
              "\n",
              "\n",
              "/* Toggleable style: style used for estimator/Pipeline/ColumnTransformer box that is\n",
              "clickable and can be expanded/collapsed.\n",
              "- Pipeline and ColumnTransformer use this feature and define the default style\n",
              "- Estimators will overwrite some part of the style using the `sk-estimator` class\n",
              "*/\n",
              "\n",
              "/* Pipeline and ColumnTransformer style (default) */\n",
              "\n",
              "#sk-container-id-1 div.sk-toggleable {\n",
              "  /* Default theme specific background. It is overwritten whether we have a\n",
              "  specific estimator or a Pipeline/ColumnTransformer */\n",
              "  background-color: var(--sklearn-color-background);\n",
              "}\n",
              "\n",
              "/* Toggleable label */\n",
              "#sk-container-id-1 label.sk-toggleable__label {\n",
              "  cursor: pointer;\n",
              "  display: block;\n",
              "  width: 100%;\n",
              "  margin-bottom: 0;\n",
              "  padding: 0.5em;\n",
              "  box-sizing: border-box;\n",
              "  text-align: center;\n",
              "}\n",
              "\n",
              "#sk-container-id-1 label.sk-toggleable__label-arrow:before {\n",
              "  /* Arrow on the left of the label */\n",
              "  content: \"▸\";\n",
              "  float: left;\n",
              "  margin-right: 0.25em;\n",
              "  color: var(--sklearn-color-icon);\n",
              "}\n",
              "\n",
              "#sk-container-id-1 label.sk-toggleable__label-arrow:hover:before {\n",
              "  color: var(--sklearn-color-text);\n",
              "}\n",
              "\n",
              "/* Toggleable content - dropdown */\n",
              "\n",
              "#sk-container-id-1 div.sk-toggleable__content {\n",
              "  max-height: 0;\n",
              "  max-width: 0;\n",
              "  overflow: hidden;\n",
              "  text-align: left;\n",
              "  /* unfitted */\n",
              "  background-color: var(--sklearn-color-unfitted-level-0);\n",
              "}\n",
              "\n",
              "#sk-container-id-1 div.sk-toggleable__content.fitted {\n",
              "  /* fitted */\n",
              "  background-color: var(--sklearn-color-fitted-level-0);\n",
              "}\n",
              "\n",
              "#sk-container-id-1 div.sk-toggleable__content pre {\n",
              "  margin: 0.2em;\n",
              "  border-radius: 0.25em;\n",
              "  color: var(--sklearn-color-text);\n",
              "  /* unfitted */\n",
              "  background-color: var(--sklearn-color-unfitted-level-0);\n",
              "}\n",
              "\n",
              "#sk-container-id-1 div.sk-toggleable__content.fitted pre {\n",
              "  /* unfitted */\n",
              "  background-color: var(--sklearn-color-fitted-level-0);\n",
              "}\n",
              "\n",
              "#sk-container-id-1 input.sk-toggleable__control:checked~div.sk-toggleable__content {\n",
              "  /* Expand drop-down */\n",
              "  max-height: 200px;\n",
              "  max-width: 100%;\n",
              "  overflow: auto;\n",
              "}\n",
              "\n",
              "#sk-container-id-1 input.sk-toggleable__control:checked~label.sk-toggleable__label-arrow:before {\n",
              "  content: \"▾\";\n",
              "}\n",
              "\n",
              "/* Pipeline/ColumnTransformer-specific style */\n",
              "\n",
              "#sk-container-id-1 div.sk-label input.sk-toggleable__control:checked~label.sk-toggleable__label {\n",
              "  color: var(--sklearn-color-text);\n",
              "  background-color: var(--sklearn-color-unfitted-level-2);\n",
              "}\n",
              "\n",
              "#sk-container-id-1 div.sk-label.fitted input.sk-toggleable__control:checked~label.sk-toggleable__label {\n",
              "  background-color: var(--sklearn-color-fitted-level-2);\n",
              "}\n",
              "\n",
              "/* Estimator-specific style */\n",
              "\n",
              "/* Colorize estimator box */\n",
              "#sk-container-id-1 div.sk-estimator input.sk-toggleable__control:checked~label.sk-toggleable__label {\n",
              "  /* unfitted */\n",
              "  background-color: var(--sklearn-color-unfitted-level-2);\n",
              "}\n",
              "\n",
              "#sk-container-id-1 div.sk-estimator.fitted input.sk-toggleable__control:checked~label.sk-toggleable__label {\n",
              "  /* fitted */\n",
              "  background-color: var(--sklearn-color-fitted-level-2);\n",
              "}\n",
              "\n",
              "#sk-container-id-1 div.sk-label label.sk-toggleable__label,\n",
              "#sk-container-id-1 div.sk-label label {\n",
              "  /* The background is the default theme color */\n",
              "  color: var(--sklearn-color-text-on-default-background);\n",
              "}\n",
              "\n",
              "/* On hover, darken the color of the background */\n",
              "#sk-container-id-1 div.sk-label:hover label.sk-toggleable__label {\n",
              "  color: var(--sklearn-color-text);\n",
              "  background-color: var(--sklearn-color-unfitted-level-2);\n",
              "}\n",
              "\n",
              "/* Label box, darken color on hover, fitted */\n",
              "#sk-container-id-1 div.sk-label.fitted:hover label.sk-toggleable__label.fitted {\n",
              "  color: var(--sklearn-color-text);\n",
              "  background-color: var(--sklearn-color-fitted-level-2);\n",
              "}\n",
              "\n",
              "/* Estimator label */\n",
              "\n",
              "#sk-container-id-1 div.sk-label label {\n",
              "  font-family: monospace;\n",
              "  font-weight: bold;\n",
              "  display: inline-block;\n",
              "  line-height: 1.2em;\n",
              "}\n",
              "\n",
              "#sk-container-id-1 div.sk-label-container {\n",
              "  text-align: center;\n",
              "}\n",
              "\n",
              "/* Estimator-specific */\n",
              "#sk-container-id-1 div.sk-estimator {\n",
              "  font-family: monospace;\n",
              "  border: 1px dotted var(--sklearn-color-border-box);\n",
              "  border-radius: 0.25em;\n",
              "  box-sizing: border-box;\n",
              "  margin-bottom: 0.5em;\n",
              "  /* unfitted */\n",
              "  background-color: var(--sklearn-color-unfitted-level-0);\n",
              "}\n",
              "\n",
              "#sk-container-id-1 div.sk-estimator.fitted {\n",
              "  /* fitted */\n",
              "  background-color: var(--sklearn-color-fitted-level-0);\n",
              "}\n",
              "\n",
              "/* on hover */\n",
              "#sk-container-id-1 div.sk-estimator:hover {\n",
              "  /* unfitted */\n",
              "  background-color: var(--sklearn-color-unfitted-level-2);\n",
              "}\n",
              "\n",
              "#sk-container-id-1 div.sk-estimator.fitted:hover {\n",
              "  /* fitted */\n",
              "  background-color: var(--sklearn-color-fitted-level-2);\n",
              "}\n",
              "\n",
              "/* Specification for estimator info (e.g. \"i\" and \"?\") */\n",
              "\n",
              "/* Common style for \"i\" and \"?\" */\n",
              "\n",
              ".sk-estimator-doc-link,\n",
              "a:link.sk-estimator-doc-link,\n",
              "a:visited.sk-estimator-doc-link {\n",
              "  float: right;\n",
              "  font-size: smaller;\n",
              "  line-height: 1em;\n",
              "  font-family: monospace;\n",
              "  background-color: var(--sklearn-color-background);\n",
              "  border-radius: 1em;\n",
              "  height: 1em;\n",
              "  width: 1em;\n",
              "  text-decoration: none !important;\n",
              "  margin-left: 1ex;\n",
              "  /* unfitted */\n",
              "  border: var(--sklearn-color-unfitted-level-1) 1pt solid;\n",
              "  color: var(--sklearn-color-unfitted-level-1);\n",
              "}\n",
              "\n",
              ".sk-estimator-doc-link.fitted,\n",
              "a:link.sk-estimator-doc-link.fitted,\n",
              "a:visited.sk-estimator-doc-link.fitted {\n",
              "  /* fitted */\n",
              "  border: var(--sklearn-color-fitted-level-1) 1pt solid;\n",
              "  color: var(--sklearn-color-fitted-level-1);\n",
              "}\n",
              "\n",
              "/* On hover */\n",
              "div.sk-estimator:hover .sk-estimator-doc-link:hover,\n",
              ".sk-estimator-doc-link:hover,\n",
              "div.sk-label-container:hover .sk-estimator-doc-link:hover,\n",
              ".sk-estimator-doc-link:hover {\n",
              "  /* unfitted */\n",
              "  background-color: var(--sklearn-color-unfitted-level-3);\n",
              "  color: var(--sklearn-color-background);\n",
              "  text-decoration: none;\n",
              "}\n",
              "\n",
              "div.sk-estimator.fitted:hover .sk-estimator-doc-link.fitted:hover,\n",
              ".sk-estimator-doc-link.fitted:hover,\n",
              "div.sk-label-container:hover .sk-estimator-doc-link.fitted:hover,\n",
              ".sk-estimator-doc-link.fitted:hover {\n",
              "  /* fitted */\n",
              "  background-color: var(--sklearn-color-fitted-level-3);\n",
              "  color: var(--sklearn-color-background);\n",
              "  text-decoration: none;\n",
              "}\n",
              "\n",
              "/* Span, style for the box shown on hovering the info icon */\n",
              ".sk-estimator-doc-link span {\n",
              "  display: none;\n",
              "  z-index: 9999;\n",
              "  position: relative;\n",
              "  font-weight: normal;\n",
              "  right: .2ex;\n",
              "  padding: .5ex;\n",
              "  margin: .5ex;\n",
              "  width: min-content;\n",
              "  min-width: 20ex;\n",
              "  max-width: 50ex;\n",
              "  color: var(--sklearn-color-text);\n",
              "  box-shadow: 2pt 2pt 4pt #999;\n",
              "  /* unfitted */\n",
              "  background: var(--sklearn-color-unfitted-level-0);\n",
              "  border: .5pt solid var(--sklearn-color-unfitted-level-3);\n",
              "}\n",
              "\n",
              ".sk-estimator-doc-link.fitted span {\n",
              "  /* fitted */\n",
              "  background: var(--sklearn-color-fitted-level-0);\n",
              "  border: var(--sklearn-color-fitted-level-3);\n",
              "}\n",
              "\n",
              ".sk-estimator-doc-link:hover span {\n",
              "  display: block;\n",
              "}\n",
              "\n",
              "/* \"?\"-specific style due to the `<a>` HTML tag */\n",
              "\n",
              "#sk-container-id-1 a.estimator_doc_link {\n",
              "  float: right;\n",
              "  font-size: 1rem;\n",
              "  line-height: 1em;\n",
              "  font-family: monospace;\n",
              "  background-color: var(--sklearn-color-background);\n",
              "  border-radius: 1rem;\n",
              "  height: 1rem;\n",
              "  width: 1rem;\n",
              "  text-decoration: none;\n",
              "  /* unfitted */\n",
              "  color: var(--sklearn-color-unfitted-level-1);\n",
              "  border: var(--sklearn-color-unfitted-level-1) 1pt solid;\n",
              "}\n",
              "\n",
              "#sk-container-id-1 a.estimator_doc_link.fitted {\n",
              "  /* fitted */\n",
              "  border: var(--sklearn-color-fitted-level-1) 1pt solid;\n",
              "  color: var(--sklearn-color-fitted-level-1);\n",
              "}\n",
              "\n",
              "/* On hover */\n",
              "#sk-container-id-1 a.estimator_doc_link:hover {\n",
              "  /* unfitted */\n",
              "  background-color: var(--sklearn-color-unfitted-level-3);\n",
              "  color: var(--sklearn-color-background);\n",
              "  text-decoration: none;\n",
              "}\n",
              "\n",
              "#sk-container-id-1 a.estimator_doc_link.fitted:hover {\n",
              "  /* fitted */\n",
              "  background-color: var(--sklearn-color-fitted-level-3);\n",
              "}\n",
              "</style><div id=\"sk-container-id-1\" class=\"sk-top-container\"><div class=\"sk-text-repr-fallback\"><pre>RandomForestClassifier(random_state=42)</pre><b>In a Jupyter environment, please rerun this cell to show the HTML representation or trust the notebook. <br />On GitHub, the HTML representation is unable to render, please try loading this page with nbviewer.org.</b></div><div class=\"sk-container\" hidden><div class=\"sk-item\"><div class=\"sk-estimator fitted sk-toggleable\"><input class=\"sk-toggleable__control sk-hidden--visually\" id=\"sk-estimator-id-1\" type=\"checkbox\" checked><label for=\"sk-estimator-id-1\" class=\"sk-toggleable__label fitted sk-toggleable__label-arrow fitted\">&nbsp;&nbsp;RandomForestClassifier<a class=\"sk-estimator-doc-link fitted\" rel=\"noreferrer\" target=\"_blank\" href=\"https://scikit-learn.org/1.5/modules/generated/sklearn.ensemble.RandomForestClassifier.html\">?<span>Documentation for RandomForestClassifier</span></a><span class=\"sk-estimator-doc-link fitted\">i<span>Fitted</span></span></label><div class=\"sk-toggleable__content fitted\"><pre>RandomForestClassifier(random_state=42)</pre></div> </div></div></div></div>"
            ],
            "text/plain": [
              "RandomForestClassifier(random_state=42)"
            ]
          },
          "execution_count": 11,
          "metadata": {},
          "output_type": "execute_result"
        }
      ],
      "source": [
        "# Inicializar os classificadores\n",
        "adaboost = AdaBoostClassifier(n_estimators=50, random_state=42)\n",
        "random_forest = RandomForestClassifier(n_estimators=100, random_state=42)\n",
        "\n",
        "# Ajustar modelos\n",
        "adaboost.fit(X_train, y_train)\n",
        "random_forest.fit(X_train, y_train)"
      ]
    },
    {
      "cell_type": "markdown",
      "metadata": {
        "id": "M03M2SI_fX-F"
      },
      "source": [
        "## Step 3: Avaliar modelos\n",
        "Use a precisão como a principal métrica para comparação e também gere curvas ROC para visualizar seu desempenho:"
      ]
    },
    {
      "cell_type": "code",
      "execution_count": 12,
      "metadata": {
        "id": "Sl2fAKnbinKO"
      },
      "outputs": [
        {
          "name": "stdout",
          "output_type": "stream",
          "text": [
            "AdaBoost Accuracy: 0.97\n",
            "Random Forest Accuracy: 0.96\n"
          ]
        }
      ],
      "source": [
        "# Predições\n",
        "y_pred_adaboost = adaboost.predict(X_test)\n",
        "y_pred_rf = random_forest.predict(X_test)\n",
        "\n",
        "accuracy_adaboost = accuracy_score(y_test, y_pred_adaboost)\n",
        "accuracy_rf = accuracy_score(y_test, y_pred_rf)\n",
        "\n",
        "print(f\"AdaBoost Accuracy: {accuracy_adaboost:.2f}\")\n",
        "print(f\"Random Forest Accuracy: {accuracy_rf:.2f}\")"
      ]
    },
    {
      "cell_type": "markdown",
      "metadata": {
        "id": "JMuRwJLDisWI"
      },
      "source": [
        "## Plotar as curvas ROC\n",
        "Vamos plotar as curvas ROC para visualizar o desempenho de ambos os modelos:"
      ]
    },
    {
      "cell_type": "code",
      "execution_count": 13,
      "metadata": {
        "id": "XsRH2kCJfZYw"
      },
      "outputs": [
        {
          "data": {
            "image/png": "[encoded data removed]",
            "text/plain": [
              "<Figure size 800x600 with 1 Axes>"
            ]
          },
          "metadata": {},
          "output_type": "display_data"
        }
      ],
      "source": [
        "# Get the probabilities for the positive class (1)\n",
        "y_score_adaboost = adaboost.predict_proba(X_test)[:, 1]\n",
        "y_score_rf = random_forest.predict_proba(X_test)[:, 1]\n",
        "\n",
        "# Compute ROC curve and ROC area for AdaBoost\n",
        "fpr_adaboost, tpr_adaboost, _ = roc_curve(y_test, y_score_adaboost)\n",
        "roc_auc_adaboost = auc(fpr_adaboost, tpr_adaboost)\n",
        "\n",
        "# Compute ROC curve and ROC area for Random Forest\n",
        "fpr_rf, tpr_rf, _ = roc_curve(y_test, y_score_rf)\n",
        "roc_auc_rf = auc(fpr_rf, tpr_rf)\n",
        "\n",
        "# Plot the ROC curves\n",
        "plt.figure(figsize=(8, 6))\n",
        "plt.plot(fpr_adaboost, tpr_adaboost, label=f'AdaBoost (AUC = {roc_auc_adaboost:.2f})', color='blue')\n",
        "plt.plot(fpr_rf, tpr_rf, label=f'Random Forest (AUC = {roc_auc_rf:.2f})', color='green')\n",
        "\n",
        "# Plot diagonal line for random guessing\n",
        "plt.plot([0, 1], [0, 1], color='gray', linestyle='--')\n",
        "\n",
        "plt.xlim([0.0, 1.0])\n",
        "plt.ylim([0.0, 1.05])\n",
        "plt.xlabel('False Positive Rate')\n",
        "plt.ylabel('True Positive Rate')\n",
        "plt.title('ROC Curves for AdaBoost and Random Forest')\n",
        "plt.legend(loc=\"lower right\")\n",
        "plt.show()"
      ]
    },
    {
      "cell_type": "markdown",
      "metadata": {
        "id": "BKYAcDDcg-5-"
      },
      "source": [
        "---\n",
        "# Sua vez: antes de iniciar os exercícios realize a mesma análise anterior na **base de dados** `iris`"
      ]
    },
    {
      "cell_type": "code",
      "execution_count": 14,
      "metadata": {
        "id": "MP9JjpzIgvm9"
      },
      "outputs": [],
      "source": [
        "from sklearn.datasets import load_iris\n",
        "from sklearn.model_selection import train_test_split\n",
        "from sklearn.ensemble import RandomForestClassifier, AdaBoostClassifier\n",
        "from sklearn.metrics import accuracy_score, roc_curve, auc\n",
        "from sklearn.preprocessing import label_binarize\n",
        "from sklearn.metrics import roc_auc_score\n",
        "import matplotlib.pyplot as plt\n",
        "import numpy as np"
      ]
    },
    {
      "cell_type": "code",
      "execution_count": 15,
      "metadata": {},
      "outputs": [],
      "source": [
        "# Carregando a base de dados Iris\n",
        "iris = load_iris()\n",
        "X = iris.data\n",
        "y = iris.target"
      ]
    },
    {
      "cell_type": "code",
      "execution_count": 16,
      "metadata": {},
      "outputs": [],
      "source": [
        "# Binarizando os rótulos (necessário para a curva ROC multiclass)\n",
        "y_bin = label_binarize(y, classes=[0, 1, 2])\n",
        "\n",
        "# Dividindo os dados em treino e teste\n",
        "X_train, X_test, y_train, y_test = train_test_split(X, y, test_size=0.3, random_state=42)\n"
      ]
    },
    {
      "cell_type": "code",
      "execution_count": 17,
      "metadata": {},
      "outputs": [],
      "source": [
        "# Treinando o modelo Random Forest\n",
        "rf_clf = RandomForestClassifier(n_estimators=100, random_state=42)\n",
        "rf_clf.fit(X_train, y_train)\n",
        "rf_y_pred = rf_clf.predict(X_test)\n",
        "rf_accuracy = accuracy_score(y_test, rf_y_pred)"
      ]
    },
    {
      "cell_type": "code",
      "execution_count": 18,
      "metadata": {},
      "outputs": [
        {
          "name": "stderr",
          "output_type": "stream",
          "text": [
            "/home/heart/.local/lib/python3.12/site-packages/sklearn/ensemble/_weight_boosting.py:527: FutureWarning: The SAMME.R algorithm (the default) is deprecated and will be removed in 1.6. Use the SAMME algorithm to circumvent this warning.\n",
            "  warnings.warn(\n"
          ]
        }
      ],
      "source": [
        "# Treinando o modelo AdaBoost\n",
        "ada_clf = AdaBoostClassifier(n_estimators=100, random_state=42)\n",
        "ada_clf.fit(X_train, y_train)\n",
        "ada_y_pred = ada_clf.predict(X_test)\n",
        "ada_accuracy = accuracy_score(y_test, ada_y_pred)"
      ]
    },
    {
      "cell_type": "code",
      "execution_count": 19,
      "metadata": {},
      "outputs": [
        {
          "name": "stdout",
          "output_type": "stream",
          "text": [
            "Acurácia Random Forest: 1.0000\n",
            "Acurácia AdaBoost: 1.0000\n"
          ]
        }
      ],
      "source": [
        "# Resultados de acurácia\n",
        "print(f\"Acurácia Random Forest: {rf_accuracy:.4f}\")\n",
        "print(f\"Acurácia AdaBoost: {ada_accuracy:.4f}\")"
      ]
    },
    {
      "cell_type": "markdown",
      "metadata": {
        "id": "7pk6XFRUfyZX"
      },
      "source": [
        "# Exercícios\n",
        "\n",
        "0. Complete o código para a base de dados iris\n",
        "1. Interprete os Resultados\n",
        "  - a) Comparação de Acurácia: Observe a acurácia de ambos os modelos. Qual modelo apresenta um melhor desempenho?\n",
        "  - b) Curvas ROC: Analise as curvas ROC. Um modelo com uma curva mais próxima do canto superior esquerdo é melhor. Compare os valores de AUC (Área Sob a Curva) para cada modelo.\n",
        "\n",
        "2. Com base na acurácia e na curva ROC, qual modelo você recomendaria para este conjunto de dados?\n",
        "\n",
        "3. O que você acha que poderia influenciar as diferenças de desempenho entre AdaBoost e Random Forest?\n",
        "\n",
        "4. Como o número de estimadores pode afetar o desempenho desses modelos?\n",
        "\n",
        "5. Como o desbalanceamento das classes pode afetar o desempenho de cada modelo?\n",
        "\n",
        "6. O AdaBoost foca em exemplos mal classificados ao longo do processo de treinamento. Em que tipo de problema isso poderia ser uma vantagem?\n",
        "\n",
        "7. Se você estivesse lidando com um grande volume de dados, qual modelo você escolheria? Considere fatores como tempo de treinamento, capacidade de generalização e complexidade computacional."
      ]
    },
    {
      "cell_type": "markdown",
      "metadata": {},
      "source": [
        "# A) Comparação de Acurácia"
      ]
    },
    {
      "cell_type": "code",
      "execution_count": 20,
      "metadata": {},
      "outputs": [
        {
          "name": "stdout",
          "output_type": "stream",
          "text": [
            "Random Forest Acurácia: 1.0000\n",
            "AdaBoost Acurácia: 1.0000\n"
          ]
        }
      ],
      "source": [
        "print(f\"Random Forest Acurácia: {rf_accuracy:.4f}\")\n",
        "print(f\"AdaBoost Acurácia: {ada_accuracy:.4f}\")\n"
      ]
    },
    {
      "cell_type": "markdown",
      "metadata": {},
      "source": [
        "# B) Curvas ROC"
      ]
    },
    {
      "cell_type": "code",
      "execution_count": 22,
      "metadata": {},
      "outputs": [
        {
          "data": {
            "image/png": "[encoded data removed]",
            "text/plain": [
              "<Figure size 640x480 with 1 Axes>"
            ]
          },
          "metadata": {},
          "output_type": "display_data"
        },
        {
          "data": {
            "image/png": "[encoded data removed]",
            "text/plain": [
              "<Figure size 640x480 with 1 Axes>"
            ]
          },
          "metadata": {},
          "output_type": "display_data"
        }
      ],
      "source": [
        "# Função para plotar ROC\n",
        "def plot_roc_curve(y_test_bin, y_pred_proba, model_name):\n",
        "    fpr = {}\n",
        "    tpr = {}\n",
        "    roc_auc = {}\n",
        "    for i in range(3):\n",
        "        fpr[i], tpr[i], _ = roc_curve(y_test_bin[:, i], y_pred_proba[:, i])\n",
        "        roc_auc[i] = auc(fpr[i], tpr[i])\n",
        "\n",
        "    plt.figure()\n",
        "    colors = ['blue', 'green', 'red']\n",
        "    for i, color in zip(range(3), colors):\n",
        "        plt.plot(fpr[i], tpr[i], color=color, lw=2,\n",
        "                 label=f'Classe {i} (AUC = {roc_auc[i]:.2f})')\n",
        "\n",
        "    plt.plot([0, 1], [0, 1], 'k--', lw=2)\n",
        "    plt.xlim([0.0, 1.0])\n",
        "    plt.ylim([0.0, 1.05])\n",
        "    plt.xlabel('Taxa de Falsos Positivos')\n",
        "    plt.ylabel('Taxa de Verdadeiros Positivos')\n",
        "    plt.title(f'Curva ROC - {model_name}')\n",
        "    plt.legend(loc=\"lower right\")\n",
        "    plt.show()\n",
        "\n",
        "# Binarizando os rótulos de teste\n",
        "y_test_bin = label_binarize(y_test, classes=[0, 1, 2])\n",
        "\n",
        "# Calculando as probabilidades previstas para ROC\n",
        "rf_y_pred_proba = rf_clf.predict_proba(X_test)\n",
        "ada_y_pred_proba = ada_clf.predict_proba(X_test)\n",
        "\n",
        "# Plotando a curva ROC para Random Forest\n",
        "plot_roc_curve(y_test_bin, rf_y_pred_proba, \"Random Forest\")\n",
        "\n",
        "# Plotando a curva ROC para AdaBoost\n",
        "plot_roc_curve(y_test_bin, ada_y_pred_proba, \"AdaBoost\")\n"
      ]
    },
    {
      "cell_type": "markdown",
      "metadata": {},
      "source": [
        "# EX 2:\n",
        "Com base na acurácia e nas curvas ROC apresentadas para os modelos Random Forest e AdaBoost:\n",
        "\n",
        "    Acurácia: Ambos os modelos apresentaram uma acurácia de 1.0 (ou seja, 100% de precisão), o que indica que ambos classificaram corretamente todos os exemplos nos dados de teste.\n",
        "\n",
        "    Curva ROC: As curvas ROC de ambos os modelos também são perfeitas, com AUC (Área Sob a Curva) de 1.0 para todas as classes. Isso significa que ambos os modelos têm um desempenho ideal em termos de discriminação entre as classes, sem falsos positivos ou negativos.\n",
        "\n",
        "\n",
        "## Recomendação:\n",
        "\n",
        "Como ambos os modelos apresentam acurácia e AUC perfeitos, do ponto de vista dos resultados fornecidos pelos dados, qualquer um dos modelos poderia ser recomendado. No entanto, outros fatores podem ser considerados para escolher entre os dois:\n",
        "\n",
        "    Random Forest pode ser preferido em situações onde a interpretação do modelo é importante, já que ele fornece a importância das features.\n",
        "    AdaBoost pode ser preferido quando o foco é em exemplos mais difíceis de classificar, já que ele tende a se concentrar nos erros do treinamento.\n",
        "\n",
        "Como os dados indicam um desempenho perfeito para ambos, sua escolha dependerá mais de fatores como tempo de treinamento, interpretabilidade ou robustez em diferentes conjuntos de dados."
      ]
    },
    {
      "cell_type": "markdown",
      "metadata": {},
      "source": [
        "# Ex 3:\n",
        "\n",
        "    As principais diferenças de desempenho entre AdaBoost e Random Forest são influenciadas pelos seguintes fatores:\n",
        "1. Natureza dos Modelos\n",
        "\n",
        "    Random Forest:\n",
        "        Consiste em vários árvores de decisão independentes, onde cada árvore é treinada em uma amostra aleatória (bootstrap) dos dados e as previsões são feitas com base na média (para regressão) ou no voto majoritário (para classificação).\n",
        "        É robusto a outliers e ao overfitting, pois a variação entre as árvores reduz a chance de um ajuste exagerado a uma única característica dos dados.\n",
        "        É menos afetado por dados ruidosos.\n",
        "\n",
        "    AdaBoost:\n",
        "        É um método de boosting que ajusta classificadores fracos de forma sequencial, corrigindo os erros do modelo anterior ao dar maior peso às observações mal classificadas.\n",
        "        Pode ser mais suscetível a outliers e dados ruidosos, pois, como foca nos erros, outliers podem influenciar significativamente o treinamento.\n",
        "        O desempenho do AdaBoost é fortemente influenciado por quão bem ele pode identificar e corrigir erros progressivamente, o que pode ser uma vantagem em conjuntos de dados difíceis.\n",
        "\n",
        "2. Impacto dos Dados\n",
        "\n",
        "    Ruído nos dados:\n",
        "        O Random Forest tende a lidar melhor com ruído nos dados, já que combina diversas árvores independentes. Ele também é menos sensível a outliers, pois os outliers podem não ser amostrados em todas as árvores, o que limita sua influência.\n",
        "        AdaBoost, por outro lado, pode ter um desempenho reduzido em dados ruidosos ou com outliers, já que dá mais peso aos exemplos mal classificados. Isso pode levar ao overfitting em dados com muito ruído.\n",
        "\n",
        "3. Complexidade do Modelo\n",
        "\n",
        "    Random Forest:\n",
        "        Com um grande número de árvores, pode se tornar mais lento em termos de tempo de inferência (previsão), mas o treinamento pode ser paralelizado, o que melhora sua eficiência em grandes conjuntos de dados.\n",
        "        Pode lidar com conjuntos de dados grandes e complexos de maneira eficiente.\n",
        "\n",
        "    AdaBoost:\n",
        "        Normalmente, é mais rápido no processo de inferência (porque usa menos classificadores fracos). Porém, o treinamento pode ser mais lento porque os classificadores são ajustados sequencialmente, e cada etapa depende da anterior.\n",
        "        Pode ter um desempenho excelente em conjuntos de dados menores, mas em conjuntos de dados muito grandes, pode sofrer com a escalabilidade.\n",
        "\n",
        "4. Suscetibilidade ao Overfitting\n",
        "\n",
        "    Random Forest:\n",
        "        É menos propenso ao overfitting, devido ao uso de amostras aleatórias e ao fato de que combina múltiplas árvores para tomar uma decisão final, suavizando as previsões.\n",
        "    AdaBoost:\n",
        "        Pode ser mais suscetível ao overfitting se houver muito ruído nos dados, especialmente quando são usados muitos classificadores fracos.\n",
        "\n",
        "5. Interpretação dos Resultados\n",
        "\n",
        "    Random Forest oferece importância das features, o que permite uma melhor compreensão de quais variáveis têm mais impacto nas previsões.\n",
        "    AdaBoost não é tão interpretável diretamente, embora forneça a sequência de ajustamentos feitos nos dados.\n",
        "\n",
        "6. Distribuição de Classes\n",
        "\n",
        "    AdaBoost pode ser mais influenciado por um desbalanceamento de classes, já que ele dá mais peso aos exemplos mal classificados e pode focar mais nas classes minoritárias se estas forem mal classificadas inicialmente.\n",
        "    Random Forest tende a ser mais robusto ao desbalanceamento, já que as árvores independentes distribuem o impacto dos exemplos de forma mais uniforme.\n",
        "\n",
        "Resumo:\n",
        "\n",
        "    Random Forest: Melhor quando há dados ruidosos ou outliers e quando se deseja um modelo robusto e de fácil interpretação. Ele é mais resistente ao overfitting e tende a funcionar bem em dados grandes.\n",
        "    AdaBoost: Pode ser mais eficaz em problemas onde existem erros difíceis de corrigir, ou quando se quer um modelo rápido para inferência e o conjunto de dados não é muito ruidoso ou complexo."
      ]
    },
    {
      "cell_type": "markdown",
      "metadata": {},
      "source": [
        "# Ex 04:\n",
        "\n",
        "    Exercício 4: Como o número de estimadores afeta o desempenho?\n",
        "\n",
        "O número de estimadores (árvores ou \"modelos fracos\") afeta tanto o Random Forest quanto o AdaBoost. Aumentar o número de estimadores geralmente melhora o desempenho, mas depois de um certo ponto, o ganho marginal diminui e o tempo de treinamento aumenta."
      ]
    },
    {
      "cell_type": "markdown",
      "metadata": {},
      "source": [
        "# EX 05:\n",
        "\n",
        "    Exercício 5: Como o desbalanceamento das classes pode afetar o desempenho?\n",
        "\n",
        "Tanto o Random Forest quanto o AdaBoost podem ser afetados por classes desbalanceadas:\n",
        "\n",
        "    Random Forest pode ser menos afetado devido à sua capacidade de construir várias árvores independentes.\n",
        "    AdaBoost, por focar em erros, pode ser mais influenciado por classes desbalanceadas, pois exemplos de classes menores são mais difíceis de acertar, levando o modelo a priorizar esses exemplos."
      ]
    },
    {
      "cell_type": "markdown",
      "metadata": {},
      "source": [
        "# Ex 06:\n",
        "\n",
        "    Exercício 6: Em que tipo de problema o AdaBoost seria vantajoso?\n",
        "\n",
        "O AdaBoost é vantajoso em problemas com:\n",
        "\n",
        "    Ruído moderado.\n",
        "    Classes difíceis de separar.\n",
        "    Outliers leves, pois o foco em exemplos mal classificados pode ajustar melhor o modelo."
      ]
    },
    {
      "cell_type": "markdown",
      "metadata": {},
      "source": [
        "# Ex 07:\n",
        "\n",
        "    Exercício 7: Para grandes volumes de dados, qual modelo escolher?\n",
        "\n",
        "Para grandes volumes de dados:\n",
        "\n",
        "    Random Forest pode ser mais eficiente, pois pode ser paralelizado e tende a ter um treinamento mais rápido.\n",
        "    AdaBoost pode ter maior custo computacional, pois a cada iteração, ajusta o peso dos exemplos com base nos erros anteriores, o que pode aumentar o tempo de treinamento."
      ]
    },
    {
      "cell_type": "markdown",
      "metadata": {},
      "source": []
    }
  ],
  "metadata": {
    "colab": {
      "provenance": []
    },
    "kernelspec": {
      "display_name": "Python 3",
      "name": "python3"
    },
    "language_info": {
      "codemirror_mode": {
        "name": "ipython",
        "version": 3
      },
      "file_extension": ".py",
      "mimetype": "text/x-python",
      "name": "python",
      "nbconvert_exporter": "python",
      "pygments_lexer": "ipython3",
      "version": "3.12.3"
    }
  },
  "nbformat": 4,
  "nbformat_minor": 0
}
